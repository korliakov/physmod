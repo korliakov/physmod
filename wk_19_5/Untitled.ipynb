{
 "cells": [
  {
   "cell_type": "code",
   "execution_count": 70,
   "metadata": {},
   "outputs": [
    {
     "name": "stdout",
     "output_type": "stream",
     "text": [
      "Using matplotlib backend: TkAgg\n"
     ]
    }
   ],
   "source": [
    "import numpy as np\n",
    "import matplotlib.pyplot as plt\n",
    "import pandas as pd\n",
    "%matplotlib"
   ]
  },
  {
   "cell_type": "code",
   "execution_count": 71,
   "metadata": {},
   "outputs": [],
   "source": [
    "file_path = 'data.csv'\n",
    "data = np.genfromtxt(file_path, delimiter = ',')\n",
    "\n",
    "\n",
    "\n"
   ]
  },
  {
   "cell_type": "code",
   "execution_count": 54,
   "metadata": {},
   "outputs": [],
   "source": [
    "def pow2(x):\n",
    "    if x in [1, 2, 4, 8, 16, 32]:\n",
    "        return True\n",
    "    else:\n",
    "        return False"
   ]
  },
  {
   "cell_type": "code",
   "execution_count": 72,
   "metadata": {},
   "outputs": [],
   "source": [
    "r0 = 2\n",
    "r_delta = 0.0001\n",
    "\n",
    "obj_list = []\n",
    "\n",
    "for i, sample in enumerate(data):\n",
    "    my_set = set(sample[900:])\n",
    "    \n",
    "#     print(i)\n",
    "#     print(my_set)\n",
    "    \n",
    "#     if pow2(len(my_set)):\n",
    "    for el in my_set:\n",
    "        obj_list.append([r0 + i*r_delta, el])\n",
    "        \n",
    "\n",
    "obj_list = np.array(obj_list)\n",
    "\n",
    "\n",
    "new_list = obj_list.T\n"
   ]
  },
  {
   "cell_type": "code",
   "execution_count": 73,
   "metadata": {},
   "outputs": [],
   "source": [
    "plt.figure(figsize = (15, 15))\n",
    "plt.grid(True)\n",
    "\n",
    "plt.scatter(new_list[0], new_list[1], alpha=0.5, s = 1)\n",
    "plt.show()"
   ]
  },
  {
   "cell_type": "code",
   "execution_count": 74,
   "metadata": {},
   "outputs": [],
   "source": [
    "# k = 1500\n",
    "\n",
    "# for i in range(k, k+20):\n",
    "#     plt.figure(figsize = (15, 15))\n",
    "#     plt.grid(True)\n",
    "#     plt.plot(np.arange(data[i][-20:].size), data[i][-20:], label=f'r = {data[i][0]}')\n",
    "#     plt.legend()"
   ]
  }
 ],
 "metadata": {
  "kernelspec": {
   "display_name": "Python 3",
   "language": "python",
   "name": "python3"
  },
  "language_info": {
   "codemirror_mode": {
    "name": "ipython",
    "version": 3
   },
   "file_extension": ".py",
   "mimetype": "text/x-python",
   "name": "python",
   "nbconvert_exporter": "python",
   "pygments_lexer": "ipython3",
   "version": "3.8.10"
  }
 },
 "nbformat": 4,
 "nbformat_minor": 4
}
